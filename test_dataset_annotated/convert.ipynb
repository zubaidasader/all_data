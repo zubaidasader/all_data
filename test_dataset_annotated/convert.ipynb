{
 "cells": [
  {
   "cell_type": "code",
   "execution_count": 8,
   "metadata": {},
   "outputs": [],
   "source": [
    "import os\n",
    "import xml.etree.ElementTree as ET\n",
    "\n",
    "def convert_voc_to_yolo(xml_path, yolo_path):\n",
    "    tree = ET.parse(xml_path)\n",
    "    root = tree.getroot()\n",
    "\n",
    "    # Get image dimensions\n",
    "    size = root.find(\"size\")\n",
    "    width = float(size.find(\"width\").text)\n",
    "    height = float(size.find(\"height\").text)\n",
    "\n",
    "    # Open YOLO file for writing\n",
    "    with open(yolo_path, \"w\") as yolo_file:\n",
    "        for obj in root.findall(\"object\"):\n",
    "            class_name = obj.find(\"name\").text\n",
    "            class_index = 0  # Adjust accordingly if you have multiple classes\n",
    "\n",
    "            bbox = obj.find(\"bndbox\")\n",
    "            xmin = float(bbox.find(\"xmin\").text)\n",
    "            ymin = float(bbox.find(\"ymin\").text)\n",
    "            xmax = float(bbox.find(\"xmax\").text)\n",
    "            ymax = float(bbox.find(\"ymax\").text)\n",
    "\n",
    "            # Convert coordinates to YOLO format (normalized)\n",
    "            x_center = (xmin + xmax) / (2.0 * width)\n",
    "            y_center = (ymin + ymax) / (2.0 * height)\n",
    "            bbox_width = (xmax - xmin) / width\n",
    "            bbox_height = (ymax - ymin) / height\n",
    "\n",
    "            # Write to YOLO file\n",
    "            yolo_file.write(f\"{class_index} {x_center} {y_center} {bbox_width} {bbox_height}\\n\")\n",
    "\n",
    "# Specify the paths\n",
    "voc_folder = \"D:/all_data/test_dataset/W=110cm_C3_Frames\"\n",
    "yolo_folder = \"D:/all_data/test_dataset/W=110cm_C3_Frames_yolo3\"\n",
    "\n",
    "# Create YOLO folder if it doesn't exist\n",
    "if not os.path.exists(yolo_folder):\n",
    "    os.makedirs(yolo_folder)\n",
    "\n",
    "# Iterate through each XML file in the Pascal VOC folder\n",
    "for xml_file in os.listdir(voc_folder):\n",
    "    if xml_file.endswith(\".xml\"):\n",
    "        xml_path = os.path.join(voc_folder, xml_file)\n",
    "        yolo_file = os.path.join(yolo_folder, os.path.splitext(xml_file)[0] + \".txt\")\n",
    "\n",
    "        # Convert and save YOLO annotations\n",
    "        convert_voc_to_yolo(xml_path, yolo_file)\n"
   ]
  },
  {
   "cell_type": "code",
   "execution_count": null,
   "metadata": {},
   "outputs": [],
   "source": []
  }
 ],
 "metadata": {
  "kernelspec": {
   "display_name": "Python 3",
   "language": "python",
   "name": "python3"
  },
  "language_info": {
   "codemirror_mode": {
    "name": "ipython",
    "version": 3
   },
   "file_extension": ".py",
   "mimetype": "text/x-python",
   "name": "python",
   "nbconvert_exporter": "python",
   "pygments_lexer": "ipython3",
   "version": "3.12.0"
  }
 },
 "nbformat": 4,
 "nbformat_minor": 2
}
