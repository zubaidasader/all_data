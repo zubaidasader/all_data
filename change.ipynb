{
 "cells": [
  {
   "cell_type": "code",
   "execution_count": null,
   "metadata": {},
   "outputs": [
    {
     "ename": "",
     "evalue": "",
     "output_type": "error",
     "traceback": [
      "\u001b[1;31mRunning cells with 'c:\\Users\\mohamed\\AppData\\Local\\Programs\\Python\\Python312\\python.exe' requires the ipykernel package.\n",
      "\u001b[1;31mRun the following command to install 'ipykernel' into the Python environment. \n",
      "\u001b[1;31mCommand: 'c:/Users/mohamed/AppData/Local/Programs/Python/Python312/python.exe -m pip install ipykernel -U --user --force-reinstall'"
     ]
    }
   ],
   "source": [
    "import os\n",
    "import fileinput\n",
    "import re\n"
   ]
  },
  {
   "cell_type": "code",
   "execution_count": 2,
   "metadata": {},
   "outputs": [
    {
     "ename": "KeyboardInterrupt",
     "evalue": "",
     "output_type": "error",
     "traceback": [
      "\u001b[1;31m---------------------------------------------------------------------------\u001b[0m",
      "\u001b[1;31mKeyboardInterrupt\u001b[0m                         Traceback (most recent call last)",
      "\u001b[1;32mc:\\Users\\mohamed\\Desktop\\annotation_zu\\change.ipynb Cell 2\u001b[0m line \u001b[0;36m1\n\u001b[0;32m      <a href='vscode-notebook-cell:/c%3A/Users/mohamed/Desktop/annotation_zu/change.ipynb#W1sZmlsZQ%3D%3D?line=6'>7</a>\u001b[0m             \u001b[39mprint\u001b[39m(line, end\u001b[39m=\u001b[39m\u001b[39m'\u001b[39m\u001b[39m'\u001b[39m)\n\u001b[0;32m      <a href='vscode-notebook-cell:/c%3A/Users/mohamed/Desktop/annotation_zu/change.ipynb#W1sZmlsZQ%3D%3D?line=8'>9</a>\u001b[0m \u001b[39m# Walk through all directories and subdirectories in the current directory.\u001b[39;00m\n\u001b[1;32m---> <a href='vscode-notebook-cell:/c%3A/Users/mohamed/Desktop/annotation_zu/change.ipynb#W1sZmlsZQ%3D%3D?line=9'>10</a>\u001b[0m \u001b[39mfor\u001b[39;49;00m root, dirs, files \u001b[39min\u001b[39;49;00m os\u001b[39m.\u001b[39;49mwalk(\u001b[39m'\u001b[39;49m\u001b[39m.\u001b[39;49m\u001b[39m'\u001b[39;49m):\n\u001b[0;32m     <a href='vscode-notebook-cell:/c%3A/Users/mohamed/Desktop/annotation_zu/change.ipynb#W1sZmlsZQ%3D%3D?line=10'>11</a>\u001b[0m     \u001b[39mfor\u001b[39;49;00m file \u001b[39min\u001b[39;49;00m files:\n\u001b[0;32m     <a href='vscode-notebook-cell:/c%3A/Users/mohamed/Desktop/annotation_zu/change.ipynb#W1sZmlsZQ%3D%3D?line=11'>12</a>\u001b[0m         \u001b[39mif\u001b[39;49;00m file\u001b[39m.\u001b[39;49mendswith(\u001b[39m'\u001b[39;49m\u001b[39m.txt\u001b[39;49m\u001b[39m'\u001b[39;49m):\n",
      "File \u001b[1;32m<frozen os>:419\u001b[0m, in \u001b[0;36m_walk\u001b[1;34m(top, topdown, onerror, followlinks)\u001b[0m\n",
      "File \u001b[1;32m<frozen os>:419\u001b[0m, in \u001b[0;36m_walk\u001b[1;34m(top, topdown, onerror, followlinks)\u001b[0m\n",
      "    \u001b[1;31m[... skipping similar frames: _walk at line 419 (3 times)]\u001b[0m\n",
      "File \u001b[1;32m<frozen os>:419\u001b[0m, in \u001b[0;36m_walk\u001b[1;34m(top, topdown, onerror, followlinks)\u001b[0m\n",
      "File \u001b[1;32m<frozen os>:364\u001b[0m, in \u001b[0;36m_walk\u001b[1;34m(top, topdown, onerror, followlinks)\u001b[0m\n",
      "\u001b[1;31mKeyboardInterrupt\u001b[0m: "
     ]
    }
   ],
   "source": [
    "\n",
    "# Define a function to replace lines starting with a number (other than 0) with 0.\n",
    "def replace_lines(filename):\n",
    "    with fileinput.FileInput(filename, inplace=True, backup='.bak') as file:\n",
    "        for line in file:\n",
    "            if re.match(r'^[1-9]', line):\n",
    "                line = '0' + line[1:]\n",
    "            print(line, end='')\n",
    "\n",
    "# Walk through all directories and subdirectories in the current directory.\n",
    "for root, dirs, files in os.walk('.'):\n",
    "    for file in files:\n",
    "        if file.endswith('.txt'):\n",
    "            filepath = os.path.join(root, file)\n",
    "            replace_lines(filepath)\n",
    "\n",
    "print(\"Lines starting with numbers (other than 0) have been changed to start with 0.\")\n"
   ]
  },
  {
   "cell_type": "code",
   "execution_count": null,
   "metadata": {},
   "outputs": [],
   "source": []
  }
 ],
 "metadata": {
  "kernelspec": {
   "display_name": "Python 3",
   "language": "python",
   "name": "python3"
  },
  "language_info": {
   "codemirror_mode": {
    "name": "ipython",
    "version": 3
   },
   "file_extension": ".py",
   "mimetype": "text/x-python",
   "name": "python",
   "nbconvert_exporter": "python",
   "pygments_lexer": "ipython3",
   "version": "3.12.0"
  }
 },
 "nbformat": 4,
 "nbformat_minor": 2
}
